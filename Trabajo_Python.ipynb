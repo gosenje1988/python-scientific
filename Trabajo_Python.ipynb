{
  "nbformat": 4,
  "nbformat_minor": 0,
  "metadata": {
    "colab": {
      "name": "Trabajo_Python.ipynb",
      "provenance": [],
      "authorship_tag": "ABX9TyNUVf0bkPePvPgP+fxF2lCb",
      "include_colab_link": true
    },
    "kernelspec": {
      "name": "python3",
      "display_name": "Python 3"
    },
    "language_info": {
      "name": "python"
    }
  },
  "cells": [
    {
      "cell_type": "markdown",
      "metadata": {
        "id": "view-in-github",
        "colab_type": "text"
      },
      "source": [
        "<a href=\"https://colab.research.google.com/github/gosenje1988/python-scientific/blob/master/Trabajo_Python.ipynb\" target=\"_parent\"><img src=\"https://colab.research.google.com/assets/colab-badge.svg\" alt=\"Open In Colab\"/></a>"
      ]
    },
    {
      "cell_type": "markdown",
      "source": [
        "**Print('2 - Sobre los datos de MNIST, intenten luego de clusterizar armar un clasificador.')**"
      ],
      "metadata": {
        "id": "LBV4isYCkDS6"
      }
    },
    {
      "cell_type": "markdown",
      "source": [
        "#Importar librerías a utilizar"
      ],
      "metadata": {
        "id": "OKxoCxifhUw7"
      }
    },
    {
      "cell_type": "code",
      "execution_count": 10,
      "metadata": {
        "id": "5tdUXrJUPgBJ"
      },
      "outputs": [],
      "source": [
        "import pandas as pd\n",
        "import numpy as np\n",
        "import matplotlib.pyplot as plt\n",
        "from sklearn.datasets import load_digits\n",
        "from sklearn.cluster import KMeans\n",
        "import random\n",
        "from sklearn import metrics\n",
        "from sklearn.cluster import DBSCAN\n",
        "from sklearn.manifold import TSNE\n",
        "from sklearn.cluster import spectral_clustering\n",
        "from sklearn.cluster import AgglomerativeClustering"
      ]
    },
    {
      "cell_type": "markdown",
      "source": [
        "#Carga y análisis exploratorio del dataset utilizado\n"
      ],
      "metadata": {
        "id": "ob2KVB1thdpA"
      }
    },
    {
      "cell_type": "code",
      "source": [
        "X,y= load_digits(return_X_y=True)\n",
        "print(\"\\n Dimensiones del dataset:\\n\")\n",
        "print(X.shape)\n",
        "print(\"\\n Dimensiones del vector solución:\\n\")\n",
        "print(y.shape)\n",
        "print(\"\\n Cantidad de imágenes de cada dígito:\\n\")\n",
        "print(np.unique(y,return_counts=True)) #Se ve que las clases están muy balanceadas (entre 174 y 183 ncounts)\n",
        "imagen=X[14,:].reshape(8,8) #Ahora vamos a imprimir una de las imágenes\n",
        "print(imagen)\n",
        "print(y[14])\n",
        "plt.figure(figsize=(10,10))\n",
        "plt.imshow(imagen,cmap=plt.cm.gray)\n",
        "plt.title(\"Imagen 1\")\n",
        "plt.gca().invert_yaxis()\n",
        "plt.show()\n",
        "X=255-X #Ahora invertiremos los colores para ver las imágenes com mayor claridad...\n",
        "imagen2=X[14,:].reshape(8,8) #...y volvemos a imprimir la misma imagen\n",
        "print(imagen2)\n",
        "plt.figure(figsize=(10,10))\n",
        "plt.imshow(imagen2,cmap=plt.cm.gray)\n",
        "plt.title(\"Imagen 2\")\n",
        "plt.gca().invert_yaxis()\n",
        "plt.show()\n",
        "imagen3=X[1,:].reshape(8,8) #Realizamos una 3er impresión de otra imagen\n",
        "print(imagen3)\n",
        "plt.figure(figsize=(1,1))\n",
        "plt.imshow(imagen3,cmap=plt.cm.gray)\n",
        "plt.title(\"Imagen 3\")\n",
        "plt.gca().invert_yaxis()\n",
        "plt.show()"
      ],
      "metadata": {
        "colab": {
          "base_uri": "https://localhost:8080/",
          "height": 1000
        },
        "id": "p0ZSAdoghgpo",
        "outputId": "2aec2664-c975-483c-f8f1-fcf50cf89c1c"
      },
      "execution_count": 11,
      "outputs": [
        {
          "output_type": "stream",
          "name": "stdout",
          "text": [
            "\n",
            " Dimensiones del dataset:\n",
            "\n",
            "(1797, 64)\n",
            "\n",
            " Dimensiones del vector solución:\n",
            "\n",
            "(1797,)\n",
            "\n",
            " Cantidad de imágenes de cada dígito:\n",
            "\n",
            "(array([0, 1, 2, 3, 4, 5, 6, 7, 8, 9]), array([178, 182, 177, 183, 181, 182, 181, 179, 174, 180]))\n",
            "[[ 0.  0.  0.  8. 15.  1.  0.  0.]\n",
            " [ 0.  0.  1. 14. 13.  1.  1.  0.]\n",
            " [ 0.  0. 10. 15.  3. 15. 11.  0.]\n",
            " [ 0.  7. 16.  7.  1. 16.  8.  0.]\n",
            " [ 0.  9. 16. 13. 14. 16.  5.  0.]\n",
            " [ 0.  1. 10. 15. 16. 14.  0.  0.]\n",
            " [ 0.  0.  0.  1. 16. 10.  0.  0.]\n",
            " [ 0.  0.  0. 10. 15.  4.  0.  0.]]\n",
            "4\n"
          ]
        },
        {
          "output_type": "display_data",
          "data": {
            "image/png": "[encoded data removed]",
            "text/plain": [
              "<Figure size 720x720 with 1 Axes>"
            ]
          },
          "metadata": {
            "needs_background": "light"
          }
        },
        {
          "output_type": "stream",
          "name": "stdout",
          "text": [
            "[[255. 255. 255. 247. 240. 254. 255. 255.]\n",
            " [255. 255. 254. 241. 242. 254. 254. 255.]\n",
            " [255. 255. 245. 240. 252. 240. 244. 255.]\n",
            " [255. 248. 239. 248. 254. 239. 247. 255.]\n",
            " [255. 246. 239. 242. 241. 239. 250. 255.]\n",
            " [255. 254. 245. 240. 239. 241. 255. 255.]\n",
            " [255. 255. 255. 254. 239. 245. 255. 255.]\n",
            " [255. 255. 255. 245. 240. 251. 255. 255.]]\n"
          ]
        },
        {
          "output_type": "display_data",
          "data": {
            "image/png": "[encoded data removed]",
            "text/plain": [
              "<Figure size 720x720 with 1 Axes>"
            ]
          },
          "metadata": {
            "needs_background": "light"
          }
        },
        {
          "output_type": "stream",
          "name": "stdout",
          "text": [
            "[[255. 255. 255. 243. 242. 250. 255. 255.]\n",
            " [255. 255. 255. 244. 239. 246. 255. 255.]\n",
            " [255. 255. 252. 240. 239. 249. 255. 255.]\n",
            " [255. 248. 240. 239. 239. 253. 255. 255.]\n",
            " [255. 255. 254. 239. 239. 252. 255. 255.]\n",
            " [255. 255. 254. 239. 239. 249. 255. 255.]\n",
            " [255. 255. 254. 239. 239. 249. 255. 255.]\n",
            " [255. 255. 255. 244. 239. 245. 255. 255.]]\n"
          ]
        },
        {
          "output_type": "display_data",
          "data": {
            "image/png": "[encoded data removed]",
            "text/plain": [
              "<Figure size 72x72 with 1 Axes>"
            ]
          },
          "metadata": {
            "needs_background": "light"
          }
        }
      ]
    },
    {
      "cell_type": "markdown",
      "source": [
        "#Clusterización del dataset"
      ],
      "metadata": {
        "id": "C1gy6lMZhsrQ"
      }
    },
    {
      "cell_type": "code",
      "source": [
        "random.seed(990)\n",
        "np.random.seed(990) #Colocamos una semilla para poder replicar el experimento\n",
        "modelo=KMeans(n_clusters=10,init='random').fit(X) #Armado del modelo\n",
        "resultado=modelo.predict(X) #Predicción\n",
        "print(\"\\n Imprimimos algunos parámetros del modelo:\\n\")\n",
        "print(\"\\n Cantidad de clusters: {}\\n\".format(modelo.n_clusters))\n",
        "print(\"Coeficioente de Silhouette: %0.3f\" % metrics.silhouette_score(X,resultado))\n",
        "print(\"\\n Centros de cada uno de los clusters: {}\\n\".format(modelo.cluster_centers_))\n",
        "print(\"Grupo al cual pertenece cada una de las imágenes:\\n {}\".format(resultado))"
      ],
      "metadata": {
        "colab": {
          "base_uri": "https://localhost:8080/"
        },
        "id": "SgQih_WkhukI",
        "outputId": "405e91a0-315e-4987-9ab4-03f83ef05ab0"
      },
      "execution_count": 14,
      "outputs": [
        {
          "output_type": "stream",
          "name": "stdout",
          "text": [
            "\n",
            " Imprimimos algunos parámetros del modelo:\n",
            "\n",
            "\n",
            " Cantidad de clusters: 10\n",
            "\n",
            "Coeficioente de Silhouette: 0.182\n",
            "\n",
            " Centros de cada uno de los clusters: [[255.         255.         254.69277108 247.8373494  243.05421687\n",
            "  253.06626506 254.84939759 254.94578313 255.         254.98795181\n",
            "  251.71686747 241.20481928 246.53614458 253.46987952 254.02409639\n",
            "  254.72289157 255.         254.35542169 244.28915663 243.43975904\n",
            "  250.6626506  249.74096386 251.12650602 254.6746988  254.9939759\n",
            "  250.24096386 240.24096386 249.13855422 248.12048193 244.24698795\n",
            "  248.78313253 254.98192771 255.         246.07228916 240.19277108\n",
            "  245.64457831 242.18674699 240.60843373 249.51807229 255.\n",
            "  254.90361446 248.4939759  243.31325301 242.65662651 240.1626506\n",
            "  244.24096386 253.43373494 255.         254.93975904 253.88554217\n",
            "  252.         247.22289157 240.91566265 250.86746988 254.98192771\n",
            "  255.         255.         254.97590361 254.62650602 247.03614458\n",
            "  242.6746988  253.22891566 255.         255.        ]\n",
            " [255.         254.97765363 250.77094972 241.8603352  243.73184358\n",
            "  252.06145251 254.96648045 255.         255.         254.11731844\n",
            "  242.37988827 241.63128492 243.59217877 243.63128492 254.03910615\n",
            "  255.         255.         251.27374302 240.7877095  249.74860335\n",
            "  252.89385475 242.88268156 251.46927374 255.         255.\n",
            "  249.70391061 242.3575419  252.96648045 254.77094972 245.92178771\n",
            "  248.52513966 255.         255.         249.11731844 243.50837989\n",
            "  254.13407821 254.96648045 246.18994413 247.84916201 255.\n",
            "  255.         251.48603352 241.7150838  253.34078212 253.50837989\n",
            "  243.64804469 249.15642458 255.         255.         254.19553073\n",
            "  241.88826816 245.03910615 244.64804469 241.70391061 252.52513966\n",
            "  254.97765363 255.         254.99441341 250.80446927 241.41340782\n",
            "  241.65921788 249.51955307 254.68156425 254.98324022]\n",
            " [255.         254.87053571 251.         243.10714286 242.5625\n",
            "  249.60267857 254.56696429 255.         254.99107143 254.12946429\n",
            "  246.77678571 241.38839286 242.30803571 245.10714286 253.44196429\n",
            "  255.         255.         253.8125     246.69642857 243.07142857\n",
            "  242.73660714 245.59375    253.96428571 255.         255.\n",
            "  254.05803571 247.79464286 240.90625    240.88839286 250.03571429\n",
            "  254.79017857 255.         255.         254.23214286 246.94642857\n",
            "  240.19196429 242.08035714 252.76785714 254.98214286 255.\n",
            "  255.         253.75892857 244.4375     243.07589286 242.83035714\n",
            "  250.79017857 254.77678571 255.         254.98660714 254.12053571\n",
            "  245.34375    243.58035714 242.89732143 249.20982143 254.29017857\n",
            "  254.99553571 254.99553571 254.87946429 250.79910714 242.95982143\n",
            "  242.22321429 250.03125    254.17857143 254.99107143]\n",
            " [255.         255.         254.94845361 253.04123711 243.84536082\n",
            "  242.40206186 250.55670103 254.60824742 255.         254.94845361\n",
            "  252.95876289 245.89690722 241.30927835 242.59793814 249.46391753\n",
            "  254.50515464 255.         253.48453608 246.44329897 242.89690722\n",
            "  243.58762887 242.44329897 250.67010309 254.77319588 255.\n",
            "  251.55670103 243.36082474 243.48453608 242.25773196 241.48453608\n",
            "  252.16494845 255.         255.         253.09278351 248.1443299\n",
            "  247.29896907 243.02061856 242.46391753 253.10309278 255.\n",
            "  255.         254.18556701 252.79381443 251.         243.37113402\n",
            "  243.22680412 253.84536082 255.         255.         254.93814433\n",
            "  254.68041237 251.83505155 242.48453608 243.71134021 253.39175258\n",
            "  255.         255.         255.         255.         252.90721649\n",
            "  243.59793814 244.68041237 253.32989691 255.        ]\n",
            " [255.         254.40677966 246.33333333 240.4180791  240.96045198\n",
            "  247.99435028 254.45762712 255.         254.98870056 250.81920904\n",
            "  242.41242938 245.9039548  243.79096045 243.02259887 253.16384181\n",
            "  254.98870056 254.99435028 253.15254237 251.41242938 251.50282486\n",
            "  243.25423729 245.06214689 254.14689266 255.         255.\n",
            "  254.96045198 254.0960452  246.73446328 241.16384181 248.25423729\n",
            "  254.69491525 255.         255.         254.93785311 254.3220339\n",
            "  250.36723164 243.22033898 242.74576271 252.68361582 255.\n",
            "  255.         254.5480226  253.56497175 254.30508475 250.81920904\n",
            "  242.61581921 248.66101695 254.99435028 255.         254.07909605\n",
            "  247.6779661  248.38983051 246.44067797 241.32768362 248.88135593\n",
            "  254.82485876 255.         254.52542373 245.51412429 240.06214689\n",
            "  240.86440678 246.08474576 253.11299435 254.5819209 ]\n",
            " [255.         254.80314961 248.38582677 242.43307087 243.04724409\n",
            "  249.18503937 254.31496063 254.99212598 254.99606299 252.37795276\n",
            "  240.98031496 245.80708661 245.71653543 244.80708661 253.66535433\n",
            "  254.99606299 255.         250.66929134 242.07480315 250.59448819\n",
            "  248.21653543 244.14566929 253.14173228 255.         255.\n",
            "  252.54724409 244.38188976 243.22047244 241.87401575 243.04724409\n",
            "  252.56692913 255.         255.         254.57480315 251.51181102\n",
            "  248.78346457 248.23228346 243.64173228 250.72834646 255.\n",
            "  255.         254.76771654 252.73622047 253.11811024 253.31102362\n",
            "  244.00393701 248.62204724 254.98425197 255.         254.24015748\n",
            "  247.05905512 249.3976378  250.07086614 242.74409449 249.13385827\n",
            "  254.88976378 255.         254.83070866 248.51181102 241.5\n",
            "  240.56692913 245.22440945 252.76771654 254.88976378]\n",
            " [255.         253.89655172 245.2137931  241.8137931  241.04827586\n",
            "  242.24827586 250.07586207 254.73103448 254.99310345 250.48275862\n",
            "  240.19310345 242.15172414 246.04827586 247.73103448 252.05517241\n",
            "  254.8        254.9862069  248.92413793 240.52413793 248.89655172\n",
            "  253.14482759 253.90344828 254.43448276 254.96551724 254.99310345\n",
            "  249.82758621 240.66896552 242.93103448 247.51724138 252.62068966\n",
            "  254.75862069 255.         255.         253.2137931  247.22758621\n",
            "  245.28965517 244.75862069 249.62758621 254.52413793 255.\n",
            "  255.         254.72413793 253.62758621 250.         244.66206897\n",
            "  248.46896552 254.44137931 255.         255.         254.2\n",
            "  250.02068966 245.24137931 242.71034483 250.4        254.75862069\n",
            "  255.         255.         253.93793103 244.33103448 240.47586207\n",
            "  247.49655172 254.2137931  255.         255.        ]\n",
            " [255.         254.05714286 244.81142857 240.56       247.22857143\n",
            "  254.01714286 255.         255.         254.97714286 249.76\n",
            "  241.28       242.37714286 243.30857143 251.76571429 254.98285714\n",
            "  255.         254.98857143 250.44       246.88571429 248.86285714\n",
            "  242.84       251.44       254.98285714 255.         255.\n",
            "  254.03428571 252.18285714 247.99428571 242.46285714 252.44\n",
            "  254.96       255.         255.         254.95428571 253.42857143\n",
            "  245.10285714 244.30285714 253.54857143 255.         255.\n",
            "  255.         254.74857143 250.54285714 243.75428571 247.25714286\n",
            "  252.62857143 254.15428571 254.98857143 255.         253.80571429\n",
            "  244.00571429 241.26857143 243.07428571 243.84       247.33142857\n",
            "  253.89714286 255.         254.06857143 244.61142857 240.53142857\n",
            "  241.49714286 242.64571429 246.03428571 252.04571429]\n",
            " [255.         255.         253.84065934 243.77472527 245.46703297\n",
            "  253.58241758 254.99450549 255.         255.         254.93956044\n",
            "  247.81868132 240.43956044 248.80769231 254.17032967 254.97252747\n",
            "  255.         255.         254.23076923 242.54395604 245.52747253\n",
            "  254.06593407 254.89010989 255.         255.         255.\n",
            "  252.7032967  241.37912088 246.90659341 251.12637363 253.07142857\n",
            "  254.8956044  255.         255.         251.47252747 240.32417582\n",
            "  242.08241758 242.74725275 244.71428571 252.28021978 255.\n",
            "  255.         253.13186813 240.48351648 244.34615385 249.42307692\n",
            "  244.80769231 245.86813187 254.76923077 255.         254.82417582\n",
            "  244.71428571 242.37362637 249.58241758 243.67582418 244.1043956\n",
            "  254.37362637 255.         255.         253.55494505 244.26373626\n",
            "  239.9010989  241.86813187 250.37912088 254.82967033]\n",
            " [255.         254.83333333 249.86363636 241.77272727 240.93939394\n",
            "  244.31313131 250.43434343 254.26767677 255.         253.81818182\n",
            "  244.04545455 243.66161616 244.69191919 242.35353535 249.95454545\n",
            "  254.65656566 255.         253.77777778 249.54545455 252.77777778\n",
            "  247.75252525 243.16666667 252.07575758 254.95454545 255.\n",
            "  254.05050505 250.08080808 248.24747475 242.41414141 243.06565657\n",
            "  250.35858586 254.99494949 255.         253.56565657 246.33838384\n",
            "  241.66666667 240.19191919 244.53535354 251.00505051 255.\n",
            "  255.         253.9040404  249.85858586 243.12626263 244.06565657\n",
            "  251.48484848 254.44444444 255.         255.         254.89393939\n",
            "  251.86868687 242.4040404  249.02525253 254.66161616 255.\n",
            "  255.         255.         254.86868687 248.54545455 242.85353535\n",
            "  252.71717172 254.8030303  254.98989899 255.        ]]\n",
            "\n",
            "Grupo al cual pertenece cada una de las imágenes:\n",
            " [1 2 2 ... 2 5 5]\n"
          ]
        }
      ]
    }
  ]
}